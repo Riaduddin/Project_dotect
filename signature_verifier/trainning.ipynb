{
  "nbformat": 4,
  "nbformat_minor": 0,
  "metadata": {
    "colab": {
      "provenance": [],
      "collapsed_sections": [
        "Y3EdeIfB5ScI"
      ],
      "gpuType": "T4"
    },
    "kernelspec": {
      "name": "python3",
      "display_name": "Python 3"
    },
    "language_info": {
      "name": "python"
    },
    "accelerator": "GPU"
  },
  "cells": [
    {
      "cell_type": "code",
      "source": [
        "from google.colab import drive\n",
        "drive.mount('/content/drive')"
      ],
      "metadata": {
        "colab": {
          "base_uri": "https://localhost:8080/"
        },
        "id": "zT_6PYd-1Je6",
        "outputId": "f0bdfc33-5a4e-4e66-f6f3-c7f226eec474"
      },
      "execution_count": 1,
      "outputs": [
        {
          "output_type": "stream",
          "name": "stdout",
          "text": [
            "Drive already mounted at /content/drive; to attempt to forcibly remount, call drive.mount(\"/content/drive\", force_remount=True).\n"
          ]
        }
      ]
    },
    {
      "cell_type": "code",
      "source": [
        "import os\n",
        "os.chdir(\"/content/drive/MyDrive/Interview/Dotech\")"
      ],
      "metadata": {
        "id": "EtvzHVqt1RoK"
      },
      "execution_count": 2,
      "outputs": []
    },
    {
      "cell_type": "code",
      "source": [
        "!ls"
      ],
      "metadata": {
        "colab": {
          "base_uri": "https://localhost:8080/"
        },
        "id": "tE_TlGZa1UL5",
        "outputId": "f95b62d7-4991-4b6a-b514-749641af436e"
      },
      "execution_count": null,
      "outputs": [
        {
          "output_type": "stream",
          "name": "stdout",
          "text": [
            "model_src\t      saving_data\t\t\t\t\t    sign_data\n",
            "model_src_2\t      siamese-signature-verification-with-confidence.ipynb  Untitled0.ipynb\n",
            "model_src_full_new_2  signature-verification-dataset.zip\n"
          ]
        }
      ]
    },
    {
      "cell_type": "code",
      "execution_count": null,
      "metadata": {
        "id": "bvkwvI_00tQG"
      },
      "outputs": [],
      "source": [
        "# import kagglehub\n",
        "\n",
        "# # Download latest version\n",
        "# path = kagglehub.dataset_download(\"robinreni/signature-verification-dataset\")\n",
        "\n",
        "# print(\"Path to dataset files:\", path)"
      ]
    },
    {
      "cell_type": "code",
      "source": [
        "# !kaggle datasets download robinreni/signature-verification-dataset -p ."
      ],
      "metadata": {
        "id": "giocG3Lw1HoA"
      },
      "execution_count": null,
      "outputs": []
    },
    {
      "cell_type": "code",
      "source": [
        "!ls"
      ],
      "metadata": {
        "colab": {
          "base_uri": "https://localhost:8080/"
        },
        "id": "pTrMgqBg1rJB",
        "outputId": "c67b4a41-5c5b-4d75-a4a3-d8f1d7b95ee9"
      },
      "execution_count": null,
      "outputs": [
        {
          "output_type": "stream",
          "name": "stdout",
          "text": [
            "model_src\t\t\t\t\t      test_images1.pkl\t train_images2.npy\n",
            "model_src_2\t\t\t\t\t      test_images2.pkl\t train_images2.pkl\n",
            "siamese-signature-verification-with-confidence.ipynb  test_labels.pkl\t train_labels.npy\n",
            "signature-verification-dataset.zip\t\t      train_images1.npy  train_labels.pkl\n",
            "sign_data\t\t\t\t\t      train_images1.pkl  Untitled0.ipynb\n"
          ]
        }
      ]
    },
    {
      "cell_type": "code",
      "source": [
        "# !unzip signature-verification-dataset.zip"
      ],
      "metadata": {
        "id": "BicooYrs2ZaO"
      },
      "execution_count": null,
      "outputs": []
    },
    {
      "cell_type": "code",
      "source": [
        "train_dir='/content/drive/MyDrive/interview/Dotech/sign_data/sign_data/train/'\n",
        "test_dir='/content/drive/MyDrive/interview/Dotech/sign_data/sign_data/test/'"
      ],
      "metadata": {
        "id": "51BantTU2cwP"
      },
      "execution_count": null,
      "outputs": []
    },
    {
      "cell_type": "code",
      "source": [
        "import pandas as pd"
      ],
      "metadata": {
        "id": "giEQ4lm54SIT"
      },
      "execution_count": null,
      "outputs": []
    },
    {
      "cell_type": "code",
      "source": [
        "df_train=pd.read_csv('/content/drive/MyDrive/interview/Dotech/sign_data/sign_data/train_data.csv')\n",
        "df_train.head(10)"
      ],
      "metadata": {
        "colab": {
          "base_uri": "https://localhost:8080/",
          "height": 363
        },
        "id": "_ZbFsG9L4HwM",
        "outputId": "c453338c-80b3-4704-f439-15f6d07b4fd3"
      },
      "execution_count": null,
      "outputs": [
        {
          "output_type": "execute_result",
          "data": {
            "text/plain": [
              "   068/09_068.png  068_forg/03_0113068.PNG  1\n",
              "0  068/09_068.png  068_forg/01_0124068.PNG  1\n",
              "1  068/09_068.png  068_forg/02_0124068.PNG  1\n",
              "2  068/09_068.png  068_forg/01_0113068.PNG  1\n",
              "3  068/09_068.png  068_forg/04_0124068.PNG  1\n",
              "4  068/09_068.png  068_forg/04_0113068.PNG  1\n",
              "5  068/09_068.png  068_forg/02_0113068.PNG  1\n",
              "6  068/09_068.png  068_forg/03_0124068.PNG  1\n",
              "7  068/02_068.png  068_forg/03_0113068.PNG  1\n",
              "8  068/02_068.png  068_forg/01_0124068.PNG  1\n",
              "9  068/02_068.png  068_forg/02_0124068.PNG  1"
            ],
            "text/html": [
              "\n",
              "  <div id=\"df-d81f4ad9-7174-476f-bf66-514489564f49\" class=\"colab-df-container\">\n",
              "    <div>\n",
              "<style scoped>\n",
              "    .dataframe tbody tr th:only-of-type {\n",
              "        vertical-align: middle;\n",
              "    }\n",
              "\n",
              "    .dataframe tbody tr th {\n",
              "        vertical-align: top;\n",
              "    }\n",
              "\n",
              "    .dataframe thead th {\n",
              "        text-align: right;\n",
              "    }\n",
              "</style>\n",
              "<table border=\"1\" class=\"dataframe\">\n",
              "  <thead>\n",
              "    <tr style=\"text-align: right;\">\n",
              "      <th></th>\n",
              "      <th>068/09_068.png</th>\n",
              "      <th>068_forg/03_0113068.PNG</th>\n",
              "      <th>1</th>\n",
              "    </tr>\n",
              "  </thead>\n",
              "  <tbody>\n",
              "    <tr>\n",
              "      <th>0</th>\n",
              "      <td>068/09_068.png</td>\n",
              "      <td>068_forg/01_0124068.PNG</td>\n",
              "      <td>1</td>\n",
              "    </tr>\n",
              "    <tr>\n",
              "      <th>1</th>\n",
              "      <td>068/09_068.png</td>\n",
              "      <td>068_forg/02_0124068.PNG</td>\n",
              "      <td>1</td>\n",
              "    </tr>\n",
              "    <tr>\n",
              "      <th>2</th>\n",
              "      <td>068/09_068.png</td>\n",
              "      <td>068_forg/01_0113068.PNG</td>\n",
              "      <td>1</td>\n",
              "    </tr>\n",
              "    <tr>\n",
              "      <th>3</th>\n",
              "      <td>068/09_068.png</td>\n",
              "      <td>068_forg/04_0124068.PNG</td>\n",
              "      <td>1</td>\n",
              "    </tr>\n",
              "    <tr>\n",
              "      <th>4</th>\n",
              "      <td>068/09_068.png</td>\n",
              "      <td>068_forg/04_0113068.PNG</td>\n",
              "      <td>1</td>\n",
              "    </tr>\n",
              "    <tr>\n",
              "      <th>5</th>\n",
              "      <td>068/09_068.png</td>\n",
              "      <td>068_forg/02_0113068.PNG</td>\n",
              "      <td>1</td>\n",
              "    </tr>\n",
              "    <tr>\n",
              "      <th>6</th>\n",
              "      <td>068/09_068.png</td>\n",
              "      <td>068_forg/03_0124068.PNG</td>\n",
              "      <td>1</td>\n",
              "    </tr>\n",
              "    <tr>\n",
              "      <th>7</th>\n",
              "      <td>068/02_068.png</td>\n",
              "      <td>068_forg/03_0113068.PNG</td>\n",
              "      <td>1</td>\n",
              "    </tr>\n",
              "    <tr>\n",
              "      <th>8</th>\n",
              "      <td>068/02_068.png</td>\n",
              "      <td>068_forg/01_0124068.PNG</td>\n",
              "      <td>1</td>\n",
              "    </tr>\n",
              "    <tr>\n",
              "      <th>9</th>\n",
              "      <td>068/02_068.png</td>\n",
              "      <td>068_forg/02_0124068.PNG</td>\n",
              "      <td>1</td>\n",
              "    </tr>\n",
              "  </tbody>\n",
              "</table>\n",
              "</div>\n",
              "    <div class=\"colab-df-buttons\">\n",
              "\n",
              "  <div class=\"colab-df-container\">\n",
              "    <button class=\"colab-df-convert\" onclick=\"convertToInteractive('df-d81f4ad9-7174-476f-bf66-514489564f49')\"\n",
              "            title=\"Convert this dataframe to an interactive table.\"\n",
              "            style=\"display:none;\">\n",
              "\n",
              "  <svg xmlns=\"http://www.w3.org/2000/svg\" height=\"24px\" viewBox=\"0 -960 960 960\">\n",
              "    <path d=\"M120-120v-720h720v720H120Zm60-500h600v-160H180v160Zm220 220h160v-160H400v160Zm0 220h160v-160H400v160ZM180-400h160v-160H180v160Zm440 0h160v-160H620v160ZM180-180h160v-160H180v160Zm440 0h160v-160H620v160Z\"/>\n",
              "  </svg>\n",
              "    </button>\n",
              "\n",
              "  <style>\n",
              "    .colab-df-container {\n",
              "      display:flex;\n",
              "      gap: 12px;\n",
              "    }\n",
              "\n",
              "    .colab-df-convert {\n",
              "      background-color: #E8F0FE;\n",
              "      border: none;\n",
              "      border-radius: 50%;\n",
              "      cursor: pointer;\n",
              "      display: none;\n",
              "      fill: #1967D2;\n",
              "      height: 32px;\n",
              "      padding: 0 0 0 0;\n",
              "      width: 32px;\n",
              "    }\n",
              "\n",
              "    .colab-df-convert:hover {\n",
              "      background-color: #E2EBFA;\n",
              "      box-shadow: 0px 1px 2px rgba(60, 64, 67, 0.3), 0px 1px 3px 1px rgba(60, 64, 67, 0.15);\n",
              "      fill: #174EA6;\n",
              "    }\n",
              "\n",
              "    .colab-df-buttons div {\n",
              "      margin-bottom: 4px;\n",
              "    }\n",
              "\n",
              "    [theme=dark] .colab-df-convert {\n",
              "      background-color: #3B4455;\n",
              "      fill: #D2E3FC;\n",
              "    }\n",
              "\n",
              "    [theme=dark] .colab-df-convert:hover {\n",
              "      background-color: #434B5C;\n",
              "      box-shadow: 0px 1px 3px 1px rgba(0, 0, 0, 0.15);\n",
              "      filter: drop-shadow(0px 1px 2px rgba(0, 0, 0, 0.3));\n",
              "      fill: #FFFFFF;\n",
              "    }\n",
              "  </style>\n",
              "\n",
              "    <script>\n",
              "      const buttonEl =\n",
              "        document.querySelector('#df-d81f4ad9-7174-476f-bf66-514489564f49 button.colab-df-convert');\n",
              "      buttonEl.style.display =\n",
              "        google.colab.kernel.accessAllowed ? 'block' : 'none';\n",
              "\n",
              "      async function convertToInteractive(key) {\n",
              "        const element = document.querySelector('#df-d81f4ad9-7174-476f-bf66-514489564f49');\n",
              "        const dataTable =\n",
              "          await google.colab.kernel.invokeFunction('convertToInteractive',\n",
              "                                                    [key], {});\n",
              "        if (!dataTable) return;\n",
              "\n",
              "        const docLinkHtml = 'Like what you see? Visit the ' +\n",
              "          '<a target=\"_blank\" href=https://colab.research.google.com/notebooks/data_table.ipynb>data table notebook</a>'\n",
              "          + ' to learn more about interactive tables.';\n",
              "        element.innerHTML = '';\n",
              "        dataTable['output_type'] = 'display_data';\n",
              "        await google.colab.output.renderOutput(dataTable, element);\n",
              "        const docLink = document.createElement('div');\n",
              "        docLink.innerHTML = docLinkHtml;\n",
              "        element.appendChild(docLink);\n",
              "      }\n",
              "    </script>\n",
              "  </div>\n",
              "\n",
              "\n",
              "<div id=\"df-50ddb5b3-7a2b-4643-aebf-58d0eeef5156\">\n",
              "  <button class=\"colab-df-quickchart\" onclick=\"quickchart('df-50ddb5b3-7a2b-4643-aebf-58d0eeef5156')\"\n",
              "            title=\"Suggest charts\"\n",
              "            style=\"display:none;\">\n",
              "\n",
              "<svg xmlns=\"http://www.w3.org/2000/svg\" height=\"24px\"viewBox=\"0 0 24 24\"\n",
              "     width=\"24px\">\n",
              "    <g>\n",
              "        <path d=\"M19 3H5c-1.1 0-2 .9-2 2v14c0 1.1.9 2 2 2h14c1.1 0 2-.9 2-2V5c0-1.1-.9-2-2-2zM9 17H7v-7h2v7zm4 0h-2V7h2v10zm4 0h-2v-4h2v4z\"/>\n",
              "    </g>\n",
              "</svg>\n",
              "  </button>\n",
              "\n",
              "<style>\n",
              "  .colab-df-quickchart {\n",
              "      --bg-color: #E8F0FE;\n",
              "      --fill-color: #1967D2;\n",
              "      --hover-bg-color: #E2EBFA;\n",
              "      --hover-fill-color: #174EA6;\n",
              "      --disabled-fill-color: #AAA;\n",
              "      --disabled-bg-color: #DDD;\n",
              "  }\n",
              "\n",
              "  [theme=dark] .colab-df-quickchart {\n",
              "      --bg-color: #3B4455;\n",
              "      --fill-color: #D2E3FC;\n",
              "      --hover-bg-color: #434B5C;\n",
              "      --hover-fill-color: #FFFFFF;\n",
              "      --disabled-bg-color: #3B4455;\n",
              "      --disabled-fill-color: #666;\n",
              "  }\n",
              "\n",
              "  .colab-df-quickchart {\n",
              "    background-color: var(--bg-color);\n",
              "    border: none;\n",
              "    border-radius: 50%;\n",
              "    cursor: pointer;\n",
              "    display: none;\n",
              "    fill: var(--fill-color);\n",
              "    height: 32px;\n",
              "    padding: 0;\n",
              "    width: 32px;\n",
              "  }\n",
              "\n",
              "  .colab-df-quickchart:hover {\n",
              "    background-color: var(--hover-bg-color);\n",
              "    box-shadow: 0 1px 2px rgba(60, 64, 67, 0.3), 0 1px 3px 1px rgba(60, 64, 67, 0.15);\n",
              "    fill: var(--button-hover-fill-color);\n",
              "  }\n",
              "\n",
              "  .colab-df-quickchart-complete:disabled,\n",
              "  .colab-df-quickchart-complete:disabled:hover {\n",
              "    background-color: var(--disabled-bg-color);\n",
              "    fill: var(--disabled-fill-color);\n",
              "    box-shadow: none;\n",
              "  }\n",
              "\n",
              "  .colab-df-spinner {\n",
              "    border: 2px solid var(--fill-color);\n",
              "    border-color: transparent;\n",
              "    border-bottom-color: var(--fill-color);\n",
              "    animation:\n",
              "      spin 1s steps(1) infinite;\n",
              "  }\n",
              "\n",
              "  @keyframes spin {\n",
              "    0% {\n",
              "      border-color: transparent;\n",
              "      border-bottom-color: var(--fill-color);\n",
              "      border-left-color: var(--fill-color);\n",
              "    }\n",
              "    20% {\n",
              "      border-color: transparent;\n",
              "      border-left-color: var(--fill-color);\n",
              "      border-top-color: var(--fill-color);\n",
              "    }\n",
              "    30% {\n",
              "      border-color: transparent;\n",
              "      border-left-color: var(--fill-color);\n",
              "      border-top-color: var(--fill-color);\n",
              "      border-right-color: var(--fill-color);\n",
              "    }\n",
              "    40% {\n",
              "      border-color: transparent;\n",
              "      border-right-color: var(--fill-color);\n",
              "      border-top-color: var(--fill-color);\n",
              "    }\n",
              "    60% {\n",
              "      border-color: transparent;\n",
              "      border-right-color: var(--fill-color);\n",
              "    }\n",
              "    80% {\n",
              "      border-color: transparent;\n",
              "      border-right-color: var(--fill-color);\n",
              "      border-bottom-color: var(--fill-color);\n",
              "    }\n",
              "    90% {\n",
              "      border-color: transparent;\n",
              "      border-bottom-color: var(--fill-color);\n",
              "    }\n",
              "  }\n",
              "</style>\n",
              "\n",
              "  <script>\n",
              "    async function quickchart(key) {\n",
              "      const quickchartButtonEl =\n",
              "        document.querySelector('#' + key + ' button');\n",
              "      quickchartButtonEl.disabled = true;  // To prevent multiple clicks.\n",
              "      quickchartButtonEl.classList.add('colab-df-spinner');\n",
              "      try {\n",
              "        const charts = await google.colab.kernel.invokeFunction(\n",
              "            'suggestCharts', [key], {});\n",
              "      } catch (error) {\n",
              "        console.error('Error during call to suggestCharts:', error);\n",
              "      }\n",
              "      quickchartButtonEl.classList.remove('colab-df-spinner');\n",
              "      quickchartButtonEl.classList.add('colab-df-quickchart-complete');\n",
              "    }\n",
              "    (() => {\n",
              "      let quickchartButtonEl =\n",
              "        document.querySelector('#df-50ddb5b3-7a2b-4643-aebf-58d0eeef5156 button');\n",
              "      quickchartButtonEl.style.display =\n",
              "        google.colab.kernel.accessAllowed ? 'block' : 'none';\n",
              "    })();\n",
              "  </script>\n",
              "</div>\n",
              "\n",
              "    </div>\n",
              "  </div>\n"
            ],
            "application/vnd.google.colaboratory.intrinsic+json": {
              "type": "dataframe",
              "variable_name": "df_train",
              "summary": "{\n  \"name\": \"df_train\",\n  \"rows\": 23205,\n  \"fields\": [\n    {\n      \"column\": \"068/09_068.png\",\n      \"properties\": {\n        \"dtype\": \"category\",\n        \"num_unique_values\": 887,\n        \"samples\": [\n          \"009/009_13.PNG\",\n          \"015/015_21.PNG\",\n          \"016/016_20.PNG\"\n        ],\n        \"semantic_type\": \"\",\n        \"description\": \"\"\n      }\n    },\n    {\n      \"column\": \"068_forg/03_0113068.PNG\",\n      \"properties\": {\n        \"dtype\": \"category\",\n        \"num_unique_values\": 1649,\n        \"samples\": [\n          \"003_forg/0206003_04.png\",\n          \"034/06_034.png\",\n          \"006_forg/0111006_03.png\"\n        ],\n        \"semantic_type\": \"\",\n        \"description\": \"\"\n      }\n    },\n    {\n      \"column\": \"1\",\n      \"properties\": {\n        \"dtype\": \"number\",\n        \"std\": 0,\n        \"min\": 0,\n        \"max\": 1,\n        \"num_unique_values\": 2,\n        \"samples\": [\n          0,\n          1\n        ],\n        \"semantic_type\": \"\",\n        \"description\": \"\"\n      }\n    }\n  ]\n}"
            }
          },
          "metadata": {},
          "execution_count": 6
        }
      ]
    },
    {
      "cell_type": "code",
      "source": [
        "df_train.shape"
      ],
      "metadata": {
        "colab": {
          "base_uri": "https://localhost:8080/"
        },
        "id": "KbIrU2CkNg_j",
        "outputId": "dfb58ea7-107c-489a-8e3f-1d531509cccd"
      },
      "execution_count": null,
      "outputs": [
        {
          "output_type": "execute_result",
          "data": {
            "text/plain": [
              "(23205, 3)"
            ]
          },
          "metadata": {},
          "execution_count": 7
        }
      ]
    },
    {
      "cell_type": "code",
      "source": [
        "df_train['1'].unique()"
      ],
      "metadata": {
        "colab": {
          "base_uri": "https://localhost:8080/"
        },
        "id": "NlolHnjb4Qmj",
        "outputId": "fe4ade08-beec-46cf-bf2b-3ad0d312ce7d"
      },
      "execution_count": null,
      "outputs": [
        {
          "output_type": "execute_result",
          "data": {
            "text/plain": [
              "array([1, 0])"
            ]
          },
          "metadata": {},
          "execution_count": 6
        }
      ]
    },
    {
      "cell_type": "code",
      "source": [
        "import matplotlib.pyplot as plt\n",
        "img=plt.imread(train_dir+df_train.iat[1,0])\n",
        "print(img.shape)\n",
        "plt.imshow(img)"
      ],
      "metadata": {
        "colab": {
          "base_uri": "https://localhost:8080/",
          "height": 226
        },
        "id": "OWtebsHR4acK",
        "outputId": "bf409038-d1db-4068-f9ac-410f7c60a703"
      },
      "execution_count": null,
      "outputs": [
        {
          "output_type": "stream",
          "name": "stdout",
          "text": [
            "(126, 497, 3)\n"
          ]
        },
        {
          "output_type": "execute_result",
          "data": {
            "text/plain": [
              "<matplotlib.image.AxesImage at 0x7da7a2f63670>"
            ]
          },
          "metadata": {},
          "execution_count": 8
        },
        {
          "output_type": "display_data",
          "data": {
            "text/plain": [
              "<Figure size 640x480 with 1 Axes>"
            ],
            "image/png": "[encoded data removed]"
          },
          "metadata": {}
        }
      ]
    },
    {
      "cell_type": "code",
      "source": [
        "import joblib\n",
        "import numpy as np\n",
        "train_images1 = joblib.load(\"train_images_reduce_128_1.pkl\")\n",
        "train_images2 = joblib.load(\"train_images_reduce_128_2.pkl\")\n",
        "train_labels = joblib.load(\"train_labels_reduce_128.pkl\")"
      ],
      "metadata": {
        "id": "JXUz3s2bTfR0"
      },
      "execution_count": 3,
      "outputs": []
    },
    {
      "cell_type": "code",
      "source": [
        "import cv2\n",
        "train_images1=[]\n",
        "train_images2=[]\n",
        "train_labels=[]\n",
        "for i in range(len(df_train)):\n",
        "    img1=cv2.imread(train_dir+df_train.iat[i,0])\n",
        "    img1=cv2.cvtColor(img1,cv2.COLOR_BGR2GRAY)\n",
        "    img1=cv2.resize(img1,(128,128))\n",
        "    train_images1.append(img1)\n",
        "\n",
        "    img2=cv2.imread(train_dir+df_train.iat[i,1])\n",
        "    img2=cv2.cvtColor(img2,cv2.COLOR_BGR2GRAY)\n",
        "    img2=cv2.resize(img2,(128,128))\n",
        "    train_images2.append(img2)\n",
        "\n",
        "    train_labels.append(df_train.iat[i,2])"
      ],
      "metadata": {
        "id": "2ZCO7gSF4svd"
      },
      "execution_count": null,
      "outputs": []
    },
    {
      "cell_type": "code",
      "source": [
        "train_images1[0].shape"
      ],
      "metadata": {
        "colab": {
          "base_uri": "https://localhost:8080/"
        },
        "id": "8bo-yhWei3Um",
        "outputId": "e15cbaa6-cf7f-4fdc-fb48-261fb9cc0ecb"
      },
      "execution_count": null,
      "outputs": [
        {
          "output_type": "execute_result",
          "data": {
            "text/plain": [
              "(128, 128)"
            ]
          },
          "metadata": {},
          "execution_count": 10
        }
      ]
    },
    {
      "cell_type": "code",
      "source": [
        "import numpy as np"
      ],
      "metadata": {
        "id": "7_0NC9cRzBZE"
      },
      "execution_count": null,
      "outputs": []
    },
    {
      "cell_type": "code",
      "source": [
        "def preprocess_images(images, batch_size=1000):\n",
        "    for i in range(0, len(images), batch_size):\n",
        "        batch = images[i:i+batch_size]\n",
        "        batch = batch.astype('float32') / 255.0\n",
        "        batch = np.expand_dims(batch, -1)\n",
        "        yield batch"
      ],
      "metadata": {
        "id": "mTIbpG5Oyybo"
      },
      "execution_count": null,
      "outputs": []
    },
    {
      "cell_type": "code",
      "source": [
        "import numpy as np\n",
        "train_images1=np.array(train_images1)\n",
        "train_images2=np.array(train_images2)\n",
        "train_images1 = np.concatenate(list(preprocess_images(train_images1)))\n",
        "train_images2 = np.concatenate(list(preprocess_images(train_images2)))"
      ],
      "metadata": {
        "id": "D4197ewny2Jx"
      },
      "execution_count": null,
      "outputs": []
    },
    {
      "cell_type": "code",
      "source": [
        "import joblib\n",
        "\n",
        "# Save data\n",
        "joblib.dump(train_images1, \"train_images_reduce_128_1.pkl\")\n",
        "joblib.dump(train_images2, \"train_images_reduce_128_2.pkl\")\n",
        "joblib.dump(train_labels, \"train_labels_reduce_128.pkl\")"
      ],
      "metadata": {
        "colab": {
          "base_uri": "https://localhost:8080/"
        },
        "id": "yc8BZOhtBgb_",
        "outputId": "a87b7b66-8390-4a1b-faeb-51aa95da998d"
      },
      "execution_count": null,
      "outputs": [
        {
          "output_type": "execute_result",
          "data": {
            "text/plain": [
              "['train_labels_reduce_128.pkl']"
            ]
          },
          "metadata": {},
          "execution_count": 14
        }
      ]
    },
    {
      "cell_type": "code",
      "source": [
        "print(train_images1.shape)\n",
        "print(train_images2.shape)"
      ],
      "metadata": {
        "colab": {
          "base_uri": "https://localhost:8080/"
        },
        "id": "qTnLY7I0BrDr",
        "outputId": "091f52f9-fe4d-4322-ac00-37efeb7d1b37"
      },
      "execution_count": 5,
      "outputs": [
        {
          "output_type": "stream",
          "name": "stdout",
          "text": [
            "(23205, 128, 128, 1)\n",
            "(23205, 128, 128, 1)\n"
          ]
        }
      ]
    },
    {
      "cell_type": "code",
      "source": [
        "type(train_labels)"
      ],
      "metadata": {
        "colab": {
          "base_uri": "https://localhost:8080/"
        },
        "id": "ui1_SCUyB0xX",
        "outputId": "9d1f5a44-f866-4700-c062-e35aeeb77703"
      },
      "execution_count": null,
      "outputs": [
        {
          "output_type": "execute_result",
          "data": {
            "text/plain": [
              "list"
            ]
          },
          "metadata": {},
          "execution_count": 7
        }
      ]
    },
    {
      "cell_type": "code",
      "source": [
        "train_labels=np.array(train_labels)"
      ],
      "metadata": {
        "id": "ILCcFO3K-gkS"
      },
      "execution_count": 4,
      "outputs": []
    },
    {
      "cell_type": "code",
      "source": [
        "type(train_labels)"
      ],
      "metadata": {
        "colab": {
          "base_uri": "https://localhost:8080/"
        },
        "id": "AKog_0dAzrsZ",
        "outputId": "43daf27c-e129-4f1d-81db-fe75132a200d"
      },
      "execution_count": null,
      "outputs": [
        {
          "output_type": "execute_result",
          "data": {
            "text/plain": [
              "numpy.ndarray"
            ]
          },
          "metadata": {},
          "execution_count": 9
        }
      ]
    },
    {
      "cell_type": "code",
      "source": [
        "!pwd"
      ],
      "metadata": {
        "colab": {
          "base_uri": "https://localhost:8080/"
        },
        "id": "Trug0P6HTPWj",
        "outputId": "7d06abc6-c342-4f0e-fe7c-457805d1c04b"
      },
      "execution_count": null,
      "outputs": [
        {
          "output_type": "stream",
          "name": "stdout",
          "text": [
            "/content/drive/MyDrive/interview/Dotech\n"
          ]
        }
      ]
    },
    {
      "cell_type": "markdown",
      "source": [
        "##Test data"
      ],
      "metadata": {
        "id": "Y3EdeIfB5ScI"
      }
    },
    {
      "cell_type": "code",
      "source": [
        "df_test=pd.read_csv('/content/drive/MyDrive/interview/Dotech/sign_data/sign_data/test_data.csv')\n",
        "df_test.head()"
      ],
      "metadata": {
        "id": "_TVY-g1v5JWj",
        "colab": {
          "base_uri": "https://localhost:8080/",
          "height": 206
        },
        "outputId": "f15fe14e-a529-4f33-cba8-06e3e52eeabf"
      },
      "execution_count": null,
      "outputs": [
        {
          "output_type": "execute_result",
          "data": {
            "text/plain": [
              "   068/09_068.png  068_forg/03_0113068.PNG  1\n",
              "0  068/09_068.png  068_forg/01_0124068.PNG  1\n",
              "1  068/09_068.png  068_forg/02_0124068.PNG  1\n",
              "2  068/09_068.png  068_forg/01_0113068.PNG  1\n",
              "3  068/09_068.png  068_forg/04_0124068.PNG  1\n",
              "4  068/09_068.png  068_forg/04_0113068.PNG  1"
            ],
            "text/html": [
              "\n",
              "  <div id=\"df-f7ec0735-9ead-4542-b601-bb033edcd2a9\" class=\"colab-df-container\">\n",
              "    <div>\n",
              "<style scoped>\n",
              "    .dataframe tbody tr th:only-of-type {\n",
              "        vertical-align: middle;\n",
              "    }\n",
              "\n",
              "    .dataframe tbody tr th {\n",
              "        vertical-align: top;\n",
              "    }\n",
              "\n",
              "    .dataframe thead th {\n",
              "        text-align: right;\n",
              "    }\n",
              "</style>\n",
              "<table border=\"1\" class=\"dataframe\">\n",
              "  <thead>\n",
              "    <tr style=\"text-align: right;\">\n",
              "      <th></th>\n",
              "      <th>068/09_068.png</th>\n",
              "      <th>068_forg/03_0113068.PNG</th>\n",
              "      <th>1</th>\n",
              "    </tr>\n",
              "  </thead>\n",
              "  <tbody>\n",
              "    <tr>\n",
              "      <th>0</th>\n",
              "      <td>068/09_068.png</td>\n",
              "      <td>068_forg/01_0124068.PNG</td>\n",
              "      <td>1</td>\n",
              "    </tr>\n",
              "    <tr>\n",
              "      <th>1</th>\n",
              "      <td>068/09_068.png</td>\n",
              "      <td>068_forg/02_0124068.PNG</td>\n",
              "      <td>1</td>\n",
              "    </tr>\n",
              "    <tr>\n",
              "      <th>2</th>\n",
              "      <td>068/09_068.png</td>\n",
              "      <td>068_forg/01_0113068.PNG</td>\n",
              "      <td>1</td>\n",
              "    </tr>\n",
              "    <tr>\n",
              "      <th>3</th>\n",
              "      <td>068/09_068.png</td>\n",
              "      <td>068_forg/04_0124068.PNG</td>\n",
              "      <td>1</td>\n",
              "    </tr>\n",
              "    <tr>\n",
              "      <th>4</th>\n",
              "      <td>068/09_068.png</td>\n",
              "      <td>068_forg/04_0113068.PNG</td>\n",
              "      <td>1</td>\n",
              "    </tr>\n",
              "  </tbody>\n",
              "</table>\n",
              "</div>\n",
              "    <div class=\"colab-df-buttons\">\n",
              "\n",
              "  <div class=\"colab-df-container\">\n",
              "    <button class=\"colab-df-convert\" onclick=\"convertToInteractive('df-f7ec0735-9ead-4542-b601-bb033edcd2a9')\"\n",
              "            title=\"Convert this dataframe to an interactive table.\"\n",
              "            style=\"display:none;\">\n",
              "\n",
              "  <svg xmlns=\"http://www.w3.org/2000/svg\" height=\"24px\" viewBox=\"0 -960 960 960\">\n",
              "    <path d=\"M120-120v-720h720v720H120Zm60-500h600v-160H180v160Zm220 220h160v-160H400v160Zm0 220h160v-160H400v160ZM180-400h160v-160H180v160Zm440 0h160v-160H620v160ZM180-180h160v-160H180v160Zm440 0h160v-160H620v160Z\"/>\n",
              "  </svg>\n",
              "    </button>\n",
              "\n",
              "  <style>\n",
              "    .colab-df-container {\n",
              "      display:flex;\n",
              "      gap: 12px;\n",
              "    }\n",
              "\n",
              "    .colab-df-convert {\n",
              "      background-color: #E8F0FE;\n",
              "      border: none;\n",
              "      border-radius: 50%;\n",
              "      cursor: pointer;\n",
              "      display: none;\n",
              "      fill: #1967D2;\n",
              "      height: 32px;\n",
              "      padding: 0 0 0 0;\n",
              "      width: 32px;\n",
              "    }\n",
              "\n",
              "    .colab-df-convert:hover {\n",
              "      background-color: #E2EBFA;\n",
              "      box-shadow: 0px 1px 2px rgba(60, 64, 67, 0.3), 0px 1px 3px 1px rgba(60, 64, 67, 0.15);\n",
              "      fill: #174EA6;\n",
              "    }\n",
              "\n",
              "    .colab-df-buttons div {\n",
              "      margin-bottom: 4px;\n",
              "    }\n",
              "\n",
              "    [theme=dark] .colab-df-convert {\n",
              "      background-color: #3B4455;\n",
              "      fill: #D2E3FC;\n",
              "    }\n",
              "\n",
              "    [theme=dark] .colab-df-convert:hover {\n",
              "      background-color: #434B5C;\n",
              "      box-shadow: 0px 1px 3px 1px rgba(0, 0, 0, 0.15);\n",
              "      filter: drop-shadow(0px 1px 2px rgba(0, 0, 0, 0.3));\n",
              "      fill: #FFFFFF;\n",
              "    }\n",
              "  </style>\n",
              "\n",
              "    <script>\n",
              "      const buttonEl =\n",
              "        document.querySelector('#df-f7ec0735-9ead-4542-b601-bb033edcd2a9 button.colab-df-convert');\n",
              "      buttonEl.style.display =\n",
              "        google.colab.kernel.accessAllowed ? 'block' : 'none';\n",
              "\n",
              "      async function convertToInteractive(key) {\n",
              "        const element = document.querySelector('#df-f7ec0735-9ead-4542-b601-bb033edcd2a9');\n",
              "        const dataTable =\n",
              "          await google.colab.kernel.invokeFunction('convertToInteractive',\n",
              "                                                    [key], {});\n",
              "        if (!dataTable) return;\n",
              "\n",
              "        const docLinkHtml = 'Like what you see? Visit the ' +\n",
              "          '<a target=\"_blank\" href=https://colab.research.google.com/notebooks/data_table.ipynb>data table notebook</a>'\n",
              "          + ' to learn more about interactive tables.';\n",
              "        element.innerHTML = '';\n",
              "        dataTable['output_type'] = 'display_data';\n",
              "        await google.colab.output.renderOutput(dataTable, element);\n",
              "        const docLink = document.createElement('div');\n",
              "        docLink.innerHTML = docLinkHtml;\n",
              "        element.appendChild(docLink);\n",
              "      }\n",
              "    </script>\n",
              "  </div>\n",
              "\n",
              "\n",
              "<div id=\"df-2270c478-0731-4525-b1fc-81c88d870f3f\">\n",
              "  <button class=\"colab-df-quickchart\" onclick=\"quickchart('df-2270c478-0731-4525-b1fc-81c88d870f3f')\"\n",
              "            title=\"Suggest charts\"\n",
              "            style=\"display:none;\">\n",
              "\n",
              "<svg xmlns=\"http://www.w3.org/2000/svg\" height=\"24px\"viewBox=\"0 0 24 24\"\n",
              "     width=\"24px\">\n",
              "    <g>\n",
              "        <path d=\"M19 3H5c-1.1 0-2 .9-2 2v14c0 1.1.9 2 2 2h14c1.1 0 2-.9 2-2V5c0-1.1-.9-2-2-2zM9 17H7v-7h2v7zm4 0h-2V7h2v10zm4 0h-2v-4h2v4z\"/>\n",
              "    </g>\n",
              "</svg>\n",
              "  </button>\n",
              "\n",
              "<style>\n",
              "  .colab-df-quickchart {\n",
              "      --bg-color: #E8F0FE;\n",
              "      --fill-color: #1967D2;\n",
              "      --hover-bg-color: #E2EBFA;\n",
              "      --hover-fill-color: #174EA6;\n",
              "      --disabled-fill-color: #AAA;\n",
              "      --disabled-bg-color: #DDD;\n",
              "  }\n",
              "\n",
              "  [theme=dark] .colab-df-quickchart {\n",
              "      --bg-color: #3B4455;\n",
              "      --fill-color: #D2E3FC;\n",
              "      --hover-bg-color: #434B5C;\n",
              "      --hover-fill-color: #FFFFFF;\n",
              "      --disabled-bg-color: #3B4455;\n",
              "      --disabled-fill-color: #666;\n",
              "  }\n",
              "\n",
              "  .colab-df-quickchart {\n",
              "    background-color: var(--bg-color);\n",
              "    border: none;\n",
              "    border-radius: 50%;\n",
              "    cursor: pointer;\n",
              "    display: none;\n",
              "    fill: var(--fill-color);\n",
              "    height: 32px;\n",
              "    padding: 0;\n",
              "    width: 32px;\n",
              "  }\n",
              "\n",
              "  .colab-df-quickchart:hover {\n",
              "    background-color: var(--hover-bg-color);\n",
              "    box-shadow: 0 1px 2px rgba(60, 64, 67, 0.3), 0 1px 3px 1px rgba(60, 64, 67, 0.15);\n",
              "    fill: var(--button-hover-fill-color);\n",
              "  }\n",
              "\n",
              "  .colab-df-quickchart-complete:disabled,\n",
              "  .colab-df-quickchart-complete:disabled:hover {\n",
              "    background-color: var(--disabled-bg-color);\n",
              "    fill: var(--disabled-fill-color);\n",
              "    box-shadow: none;\n",
              "  }\n",
              "\n",
              "  .colab-df-spinner {\n",
              "    border: 2px solid var(--fill-color);\n",
              "    border-color: transparent;\n",
              "    border-bottom-color: var(--fill-color);\n",
              "    animation:\n",
              "      spin 1s steps(1) infinite;\n",
              "  }\n",
              "\n",
              "  @keyframes spin {\n",
              "    0% {\n",
              "      border-color: transparent;\n",
              "      border-bottom-color: var(--fill-color);\n",
              "      border-left-color: var(--fill-color);\n",
              "    }\n",
              "    20% {\n",
              "      border-color: transparent;\n",
              "      border-left-color: var(--fill-color);\n",
              "      border-top-color: var(--fill-color);\n",
              "    }\n",
              "    30% {\n",
              "      border-color: transparent;\n",
              "      border-left-color: var(--fill-color);\n",
              "      border-top-color: var(--fill-color);\n",
              "      border-right-color: var(--fill-color);\n",
              "    }\n",
              "    40% {\n",
              "      border-color: transparent;\n",
              "      border-right-color: var(--fill-color);\n",
              "      border-top-color: var(--fill-color);\n",
              "    }\n",
              "    60% {\n",
              "      border-color: transparent;\n",
              "      border-right-color: var(--fill-color);\n",
              "    }\n",
              "    80% {\n",
              "      border-color: transparent;\n",
              "      border-right-color: var(--fill-color);\n",
              "      border-bottom-color: var(--fill-color);\n",
              "    }\n",
              "    90% {\n",
              "      border-color: transparent;\n",
              "      border-bottom-color: var(--fill-color);\n",
              "    }\n",
              "  }\n",
              "</style>\n",
              "\n",
              "  <script>\n",
              "    async function quickchart(key) {\n",
              "      const quickchartButtonEl =\n",
              "        document.querySelector('#' + key + ' button');\n",
              "      quickchartButtonEl.disabled = true;  // To prevent multiple clicks.\n",
              "      quickchartButtonEl.classList.add('colab-df-spinner');\n",
              "      try {\n",
              "        const charts = await google.colab.kernel.invokeFunction(\n",
              "            'suggestCharts', [key], {});\n",
              "      } catch (error) {\n",
              "        console.error('Error during call to suggestCharts:', error);\n",
              "      }\n",
              "      quickchartButtonEl.classList.remove('colab-df-spinner');\n",
              "      quickchartButtonEl.classList.add('colab-df-quickchart-complete');\n",
              "    }\n",
              "    (() => {\n",
              "      let quickchartButtonEl =\n",
              "        document.querySelector('#df-2270c478-0731-4525-b1fc-81c88d870f3f button');\n",
              "      quickchartButtonEl.style.display =\n",
              "        google.colab.kernel.accessAllowed ? 'block' : 'none';\n",
              "    })();\n",
              "  </script>\n",
              "</div>\n",
              "\n",
              "    </div>\n",
              "  </div>\n"
            ],
            "application/vnd.google.colaboratory.intrinsic+json": {
              "type": "dataframe",
              "variable_name": "df_test",
              "summary": "{\n  \"name\": \"df_test\",\n  \"rows\": 5747,\n  \"fields\": [\n    {\n      \"column\": \"068/09_068.png\",\n      \"properties\": {\n        \"dtype\": \"category\",\n        \"num_unique_values\": 252,\n        \"samples\": [\n          \"052/02_052.png\",\n          \"068/12_068.png\",\n          \"053/01_053.png\"\n        ],\n        \"semantic_type\": \"\",\n        \"description\": \"\"\n      }\n    },\n    {\n      \"column\": \"068_forg/03_0113068.PNG\",\n      \"properties\": {\n        \"dtype\": \"category\",\n        \"num_unique_values\": 500,\n        \"samples\": [\n          \"054/12_054.png\",\n          \"065_forg/02_0206065.PNG\",\n          \"063_forg/02_0119063.PNG\"\n        ],\n        \"semantic_type\": \"\",\n        \"description\": \"\"\n      }\n    },\n    {\n      \"column\": \"1\",\n      \"properties\": {\n        \"dtype\": \"number\",\n        \"std\": 0,\n        \"min\": 0,\n        \"max\": 1,\n        \"num_unique_values\": 2,\n        \"samples\": [\n          0,\n          1\n        ],\n        \"semantic_type\": \"\",\n        \"description\": \"\"\n      }\n    }\n  ]\n}"
            }
          },
          "metadata": {},
          "execution_count": 13
        }
      ]
    },
    {
      "cell_type": "code",
      "source": [
        "df_test.shape"
      ],
      "metadata": {
        "colab": {
          "base_uri": "https://localhost:8080/"
        },
        "id": "pFyphdejOT-V",
        "outputId": "f3b9ab2f-854a-44fc-c789-b08dcb994fd9"
      },
      "execution_count": null,
      "outputs": [
        {
          "output_type": "execute_result",
          "data": {
            "text/plain": [
              "(5747, 3)"
            ]
          },
          "metadata": {},
          "execution_count": 14
        }
      ]
    },
    {
      "cell_type": "code",
      "source": [
        "test_images1=joblib.load(\"test_images1.pkl\")\n",
        "test_images2=joblib.load(\"test_images2.pkl\")"
      ],
      "metadata": {
        "id": "lXBTxKrLT9A_"
      },
      "execution_count": null,
      "outputs": []
    },
    {
      "cell_type": "code",
      "source": [
        "test_images1=[]\n",
        "test_images2=[]\n",
        "for j in range(len(df_test)):\n",
        "    img1=cv2.imread(test_dir+df_test.iat[j,0])\n",
        "    img1=cv2.cvtColor(img1,cv2.COLOR_BGR2GRAY)\n",
        "    img1=cv2.resize(img1,(150,220))\n",
        "    test_images1.append(img1)\n",
        "\n",
        "    img2=cv2.imread(test_dir+df_test.iat[j,1])\n",
        "    img2=cv2.cvtColor(img2,cv2.COLOR_BGR2GRAY)\n",
        "    img2=cv2.resize(img2,(150,220))\n",
        "    test_images2.append(img2)"
      ],
      "metadata": {
        "id": "U8Ftx-vT5Yl_"
      },
      "execution_count": null,
      "outputs": []
    },
    {
      "cell_type": "code",
      "source": [
        "test_images1=np.array(test_images1)/255.0\n",
        "test_images2=np.array(test_images2)/255.0\n",
        "test_images1=np.expand_dims(test_images1,-1)\n",
        "test_images2=np.expand_dims(test_images2,-1)\n",
        "test_labels=np.array(df_test['1'])"
      ],
      "metadata": {
        "id": "LMSa_sHq5cRT"
      },
      "execution_count": null,
      "outputs": []
    },
    {
      "cell_type": "code",
      "source": [
        "import joblib\n",
        "\n",
        "# Save test data\n",
        "joblib.dump(test_images1, \"test_images_new_1.pkl\")\n",
        "joblib.dump(test_images2, \"test_images_new_2.pkl\")\n"
      ],
      "metadata": {
        "id": "rFgiWV7MSihk",
        "colab": {
          "base_uri": "https://localhost:8080/"
        },
        "outputId": "ab904192-5b88-4c86-db01-5e46836f64ac"
      },
      "execution_count": null,
      "outputs": [
        {
          "output_type": "execute_result",
          "data": {
            "text/plain": [
              "['test_images_new_2.pkl']"
            ]
          },
          "metadata": {},
          "execution_count": 15
        }
      ]
    },
    {
      "cell_type": "code",
      "source": [
        "# import joblib\n",
        "\n",
        "# # Save test_labels\n",
        "# joblib.dump(test_labels, \"test_labels.pkl\")"
      ],
      "metadata": {
        "colab": {
          "base_uri": "https://localhost:8080/"
        },
        "id": "Aw0dgjbKSimE",
        "outputId": "665323f6-5bd0-4b23-c232-54b9dce48f6c"
      },
      "execution_count": null,
      "outputs": [
        {
          "output_type": "execute_result",
          "data": {
            "text/plain": [
              "['test_labels.pkl']"
            ]
          },
          "metadata": {},
          "execution_count": 16
        }
      ]
    },
    {
      "cell_type": "code",
      "source": [
        "test_labels=joblib.load(\"test_labels.pkl\")"
      ],
      "metadata": {
        "id": "jntzSyGHUNAp"
      },
      "execution_count": null,
      "outputs": []
    },
    {
      "cell_type": "markdown",
      "source": [
        "##Model trainning"
      ],
      "metadata": {
        "id": "RrmuN3tk5gl7"
      }
    },
    {
      "cell_type": "code",
      "source": [
        "from tensorflow.keras.models import Model\n",
        "from tensorflow.keras.layers import Input\n",
        "from tensorflow.keras.layers import Conv2D,Dense,Dropout,MaxPooling2D,GlobalAveragePooling2D\n",
        "from tensorflow.keras.layers import Lambda,BatchNormalization,concatenate\n",
        "import tensorflow.keras.backend as K\n",
        "from tensorflow.keras import regularizers\n",
        "from tensorflow.keras.optimizers import SGD,Adam\n",
        "from tensorflow.keras.callbacks import ModelCheckpoint\n",
        "import tensorflow as tf\n",
        "from tensorflow.keras.models import load_model"
      ],
      "metadata": {
        "id": "alFsUvS25cUy"
      },
      "execution_count": 5,
      "outputs": []
    },
    {
      "cell_type": "code",
      "source": [
        "from tensorflow.keras.models import load_model"
      ],
      "metadata": {
        "id": "TAahTfC53RiW"
      },
      "execution_count": 6,
      "outputs": []
    },
    {
      "cell_type": "code",
      "source": [
        "import tensorflow as tf\n",
        "from tensorflow.keras import backend as K\n",
        "from tensorflow.keras.layers import Input, Conv2D, MaxPooling2D, BatchNormalization, Dropout, GlobalAveragePooling2D, Dense, Lambda\n",
        "from tensorflow.keras.models import Model\n",
        "from tensorflow.keras import regularizers"
      ],
      "metadata": {
        "id": "f7XeAB7y5cYM"
      },
      "execution_count": 7,
      "outputs": []
    },
    {
      "cell_type": "code",
      "source": [],
      "metadata": {
        "id": "uETG7gYT6HQQ"
      },
      "execution_count": null,
      "outputs": []
    },
    {
      "cell_type": "code",
      "source": [
        "def build_siamese_model(inputShape,embeddingDim=2048):\n",
        "    inputs=Input(inputShape)\n",
        "    x=Conv2D(32,(3,3),padding='same',activation='relu',strides=(1,1))(inputs) #,kernel_regularizer=regularizers.l1(.001)\n",
        "    # x=Dropout(.25)(x)\n",
        "    x=BatchNormalization(axis=-1)(x)\n",
        "    x = MaxPooling2D(pool_size=(2, 2), strides=(2,2))(x)\n",
        "\n",
        "    x=Conv2D(64,(3,3),padding='same',activation='relu',strides=(1,1))(x) #,kernel_regularizer=regularizers.l1(.0001)\n",
        "    x=BatchNormalization(axis=-1)(x)\n",
        "    # x=Dropout(.25)(x)\n",
        "    x=MaxPooling2D(pool_size=(2,2),strides=(2,2))(x)\n",
        "\n",
        "    x=Conv2D(128,(3,3),strides=(1,1),padding='same',activation='relu')(x)\n",
        "    x=Dropout(.25)(x)\n",
        "    x=BatchNormalization(axis=-1)(x)\n",
        "    x = MaxPooling2D(pool_size=(2, 2), strides=(2, 2))(x)\n",
        "\n",
        "    x=Conv2D(256,(3,3),strides=(1,1),padding='same',activation='relu')(x)\n",
        "    #x=Dropout(.25)(x)\n",
        "    x=BatchNormalization(axis=-1)(x)\n",
        "    x=Conv2D(256,(3,3),strides=(1,1),padding='same',activation='relu')(x)\n",
        "    x=BatchNormalization(axis=-1)(x)\n",
        "    x = MaxPooling2D(pool_size=(3, 3), strides=(2,2))(x)\n",
        "    x=Conv2D(512,(3,3),padding='same',activation='relu')(x)  #,kernel_regularizer=regularizers.l1(.0001)\n",
        "    x=BatchNormalization(axis=-1)(x)\n",
        "    x=Conv2D(512,(3,3),padding='same',activation='relu')(x) #,kernel_regularizer=regularizers.l1(.0001)\n",
        "    x=BatchNormalization(axis=-1)(x)\n",
        "    #x=Dropout(.25)(x)\n",
        "    x=MaxPooling2D(pool_size=2)(x)\n",
        "\n",
        "    x=Conv2D(1024,(5,5),padding='same',activation='relu')(x) #,kernel_regularizer=regularizers.l1(.0001)\n",
        "    x=BatchNormalization(axis=-1)(x)\n",
        "    x=Conv2D(1024,(5,5),padding='same',activation='relu')(x) #,kernel_regularizer=regularizers.l1(.0001)\n",
        "    x=BatchNormalization(axis=-1)(x)\n",
        "\n",
        "\n",
        "    pooledOutput=GlobalAveragePooling2D()(x)\n",
        "    #x=Dropout(.20)(x)\n",
        "    outputs=Dense(embeddingDim,activation='linear')(pooledOutput)\n",
        "    model=Model(inputs,outputs)\n",
        "    return model"
      ],
      "metadata": {
        "id": "22cuKv546LQ_"
      },
      "execution_count": 8,
      "outputs": []
    },
    {
      "cell_type": "code",
      "source": [
        "IMG_SHAPE=(128,128,1)\n",
        "BATCH_SIZE=32\n",
        "EPOCHS=150\n",
        "INIT_LR=.001\n",
        "opt=SGD(learning_rate=INIT_LR,decay=INIT_LR/EPOCHS,momentum=.9)\n",
        "opt2=Adam(learning_rate=INIT_LR,decay=INIT_LR/EPOCHS) #"
      ],
      "metadata": {
        "id": "x_hLxqon6LUX",
        "colab": {
          "base_uri": "https://localhost:8080/"
        },
        "outputId": "595a53aa-6ed7-4805-c2a8-76f0e42243af"
      },
      "execution_count": 9,
      "outputs": [
        {
          "output_type": "stream",
          "name": "stderr",
          "text": [
            "/usr/local/lib/python3.10/dist-packages/keras/src/optimizers/base_optimizer.py:33: UserWarning: Argument `decay` is no longer supported and will be ignored.\n",
            "  warnings.warn(\n"
          ]
        }
      ]
    },
    {
      "cell_type": "code",
      "source": [
        "# from tensorflow.keras import backend as K\n",
        "# def euclidean_distance(vectors):\n",
        "#     (featsA,featsB)=vectors\n",
        "\n",
        "#     sumSquared=K.sum(K.square(featsA-featsB),axis=1,keepdims=True)\n",
        "#     return K.sqrt(K.maximum(sumSquared,K.epsilon()))\n",
        "\n",
        "# def contrastive_loss(y,preds,margin=1):\n",
        "#     y=tf.cast(y,preds.dtype)\n",
        "\n",
        "#     squaredPreds=K.square(preds)\n",
        "#     squaredMargin=K.square(K.maximum(margin-preds,0))\n",
        "#     loss=K.mean(y*squaredPreds+(1-y) * squaredMargin)\n",
        "\n",
        "#     return loss\n",
        "# # Custom loss: Combine contrastive loss and binary cross-entropy\n",
        "# def combined_loss(y_true, output1,output2):\n",
        "#     # Contrastive Loss\n",
        "#     margin = 1.0\n",
        "#     y_pred = euclidean_distance([output1, output2])\n",
        "#     contrastive_loss = contrastive_loss(y_true, y_pred, margin)\n",
        "\n",
        "#     bce_loss = tf.nn.sigmoid_cross_entropy_with_logits(labels=y_true, logits=logits)\n",
        "#     bce_loss = tf.reduce_mean(bce_loss)\n",
        "#     # Binary Cross-Entropy Loss\n",
        "\n",
        "#     # Combine both losses\n",
        "#     return contrastive_loss + bce_loss"
      ],
      "metadata": {
        "id": "BIxs9LpvkcH1"
      },
      "execution_count": null,
      "outputs": []
    },
    {
      "cell_type": "code",
      "source": [
        "# Define the Euclidean distance function (used in the loss function)\n",
        "def euclidean_distance(vectors):\n",
        "    (featsA, featsB) = vectors\n",
        "\n",
        "     # Reshape to ensure 2D tensors if necessary\n",
        "    featsA = tf.reshape(featsA, (tf.shape(featsA)[0], -1))  # Reshape to (batch_size, embedding_dim)\n",
        "    featsB = tf.reshape(featsB, (tf.shape(featsB)[0], -1))  # Reshape to (batch_size, embedding_dim)\n",
        "\n",
        "    sumSquared = K.sum(K.square(featsA - featsB), axis=1, keepdims=True)\n",
        "    return K.sqrt(K.maximum(sumSquared, K.epsilon()))  # To avoid division by zero\n",
        "\n",
        "# Define the contrastive loss function\n",
        "def contrastive_loss(y, y_pred,margin):\n",
        "    # Contrastive Loss\n",
        "    squared_preds = K.square(y_pred)\n",
        "    squared_margin = K.square(K.maximum(margin - y_pred, 0))\n",
        "    loss = K.mean(y * squared_preds + (1 - y) * squared_margin)\n",
        "    return loss\n",
        "\n",
        "# Define the combined loss function (contrastive loss + binary cross-entropy)\n",
        "def combined_loss(y_true, y_pred):\n",
        "    # Contrastive loss\n",
        "    margin = 1.0\n",
        "    contrastive_loss_value = contrastive_loss(y_true,y_pred,margin)\n",
        "\n",
        "    # Binary Cross-Entropy Loss (for additional training signal)\n",
        "    bce_loss = tf.nn.sigmoid_cross_entropy_with_logits(labels=y_true, logits=y_pred)  # Can use either featsA or featsB\n",
        "    bce_loss = tf.reduce_mean(bce_loss)\n",
        "\n",
        "    # Combine both losses\n",
        "    return contrastive_loss_value + bce_loss"
      ],
      "metadata": {
        "id": "WLZeuVJHBC7h"
      },
      "execution_count": 10,
      "outputs": []
    },
    {
      "cell_type": "code",
      "source": [
        "# # Define the Euclidean distance function (used in the loss function)\n",
        "# def euclidean_distance(vectors):\n",
        "#     (featsA, featsB) = vectors\n",
        "\n",
        "#      # Reshape to ensure 2D tensors if necessary\n",
        "#     featsA = tf.reshape(featsA, (tf.shape(featsA)[0], -1))  # Reshape to (batch_size, embedding_dim)\n",
        "#     featsB = tf.reshape(featsB, (tf.shape(featsB)[0], -1))  # Reshape to (batch_size, embedding_dim)\n",
        "\n",
        "#     sumSquared = K.sum(K.square(featsA - featsB), axis=1, keepdims=True)\n",
        "#     return K.sqrt(K.maximum(sumSquared, K.epsilon()))  # To avoid division by zero\n",
        "\n",
        "# # Define the contrastive loss function\n",
        "# def contrastive_loss(y, featsA, featsB, margin=1):\n",
        "#     # Compute the Euclidean distance between the two embeddings\n",
        "#     y_pred = euclidean_distance([featsA, featsB])\n",
        "\n",
        "#     # Contrastive Loss\n",
        "#     squared_preds = K.square(y_pred)\n",
        "#     squared_margin = K.square(K.maximum(margin - y_pred, 0))\n",
        "#     loss = K.mean(y * squared_preds + (1 - y) * squared_margin)\n",
        "#     return loss\n",
        "\n",
        "# # Define the combined loss function (contrastive loss + binary cross-entropy)\n",
        "# def combined_loss(y_true, y_pred):\n",
        "#     featsA, featsB = y_pred[0], y_pred[1]\n",
        "#     # Contrastive loss\n",
        "#     margin = 1.0\n",
        "#     contrastive_loss_value = contrastive_loss(y_true, featsA, featsB, margin)\n",
        "\n",
        "#     # Calculate the distance\n",
        "#     distance = euclidean_distance([featsA, featsB])\n",
        "\n",
        "#     # Apply sigmoid to the distance to get a probability-like value\n",
        "#     similarity_score = tf.sigmoid(distance)\n",
        "\n",
        "#     # Binary Cross-Entropy Loss (using the similarity score)\n",
        "#     bce_loss = tf.keras.losses.binary_crossentropy(y_true, similarity_score)\n",
        "#     bce_loss = tf.reduce_mean(bce_loss)\n",
        "\n",
        "#     # Combine both losses\n",
        "#     return contrastive_loss_value + bce_loss"
      ],
      "metadata": {
        "id": "aNE66AzAEzBO"
      },
      "execution_count": null,
      "outputs": []
    },
    {
      "cell_type": "code",
      "source": [
        "imgA=Input(shape=IMG_SHAPE)\n",
        "imgB=Input(shape=IMG_SHAPE)\n",
        "features=build_siamese_model(IMG_SHAPE)\n",
        "featsA=features(imgA)\n",
        "featsB=features(imgB)\n",
        "distance=Lambda(euclidean_distance)([featsA,featsB])\n",
        "outputs=Dense(1,activation='linear')(distance)\n",
        "model=Model(inputs=[imgA,imgB],outputs=distance)\n",
        "model.compile(loss=combined_loss,optimizer=opt2)"
      ],
      "metadata": {
        "id": "oTVBAlq46TNE"
      },
      "execution_count": 11,
      "outputs": []
    },
    {
      "cell_type": "markdown",
      "source": [],
      "metadata": {
        "id": "ypO1bONOb_CE"
      }
    },
    {
      "cell_type": "code",
      "source": [
        "!pwd"
      ],
      "metadata": {
        "colab": {
          "base_uri": "https://localhost:8080/"
        },
        "id": "Rg1Ralh0b_Qz",
        "outputId": "3ab0ca12-e16b-4d2f-fd36-367cb19fbb36"
      },
      "execution_count": null,
      "outputs": [
        {
          "output_type": "stream",
          "name": "stdout",
          "text": [
            "/content/drive/MyDrive/interview/Dotech\n"
          ]
        }
      ]
    },
    {
      "cell_type": "code",
      "source": [
        "import os\n",
        "os.makedirs(\"/content/drive/MyDrive/Interview/Dotech/model_src_main_2/\", exist_ok=True)"
      ],
      "metadata": {
        "id": "Po8l-JbkcM2U"
      },
      "execution_count": 12,
      "outputs": []
    },
    {
      "cell_type": "code",
      "source": [
        "from tensorflow.keras.callbacks import EarlyStopping\n",
        "early_stopping = EarlyStopping(\n",
        "    monitor='val_loss',  # Metric to monitor\n",
        "    patience=18,          # Number of epochs with no improvement before stopping\n",
        "    restore_best_weights=True  # Restore the model weights from the epoch with the best value\n",
        ")\n",
        "checkpoint = ModelCheckpoint(\"/content/drive/MyDrive/Interview/Dotech/model_src_main_2/model_{val_loss:.5f}.keras\",\n",
        "                             monitor=\"val_loss\",\n",
        "                             mode=\"min\",\n",
        "                             save_best_only=True,\n",
        "                             verbose=1)\n"
      ],
      "metadata": {
        "id": "lBkkzUaC6TQn"
      },
      "execution_count": 13,
      "outputs": []
    },
    {
      "cell_type": "code",
      "source": [
        "#train_labels=np.array(train_labels)"
      ],
      "metadata": {
        "id": "R5f-z-5m4qUr"
      },
      "execution_count": 16,
      "outputs": []
    },
    {
      "cell_type": "code",
      "source": [
        "print(train_images1.shape)\n",
        "print(train_images2.shape)\n",
        "print(train_labels.shape)"
      ],
      "metadata": {
        "colab": {
          "base_uri": "https://localhost:8080/"
        },
        "id": "lyK6mduK2z8V",
        "outputId": "54ad9a63-6f70-49ea-bf02-f91ba3b2580e"
      },
      "execution_count": 14,
      "outputs": [
        {
          "output_type": "stream",
          "name": "stdout",
          "text": [
            "(23205, 128, 128, 1)\n",
            "(23205, 128, 128, 1)\n",
            "(23205,)\n"
          ]
        }
      ]
    },
    {
      "cell_type": "code",
      "source": [
        "history=model.fit([train_images1,train_images2],train_labels,validation_split=.1,batch_size=BATCH_SIZE,epochs=EPOCHS,callbacks=[checkpoint,early_stopping])"
      ],
      "metadata": {
        "colab": {
          "base_uri": "https://localhost:8080/"
        },
        "id": "CS_xJAjV6TUT",
        "outputId": "e46460b8-f60f-4660-f00d-cd8a65c0d00f"
      },
      "execution_count": 15,
      "outputs": [
        {
          "output_type": "stream",
          "name": "stdout",
          "text": [
            "Epoch 1/150\n",
            "\u001b[1m653/653\u001b[0m \u001b[32m━━━━━━━━━━━━━━━━━━━━\u001b[0m\u001b[37m\u001b[0m \u001b[1m0s\u001b[0m 125ms/step - loss: 3.2984\n",
            "Epoch 1: val_loss improved from inf to 1.18721, saving model to /content/drive/MyDrive/Interview/Dotech/model_src_main_2/model_1.18721.keras\n",
            "\u001b[1m653/653\u001b[0m \u001b[32m━━━━━━━━━━━━━━━━━━━━\u001b[0m\u001b[37m\u001b[0m \u001b[1m120s\u001b[0m 145ms/step - loss: 3.2955 - val_loss: 1.1872\n",
            "Epoch 2/150\n",
            "\u001b[1m653/653\u001b[0m \u001b[32m━━━━━━━━━━━━━━━━━━━━\u001b[0m\u001b[37m\u001b[0m \u001b[1m0s\u001b[0m 102ms/step - loss: 0.9744\n",
            "Epoch 2: val_loss improved from 1.18721 to 1.11602, saving model to /content/drive/MyDrive/Interview/Dotech/model_src_main_2/model_1.11602.keras\n",
            "\u001b[1m653/653\u001b[0m \u001b[32m━━━━━━━━━━━━━━━━━━━━\u001b[0m\u001b[37m\u001b[0m \u001b[1m103s\u001b[0m 112ms/step - loss: 0.9744 - val_loss: 1.1160\n",
            "Epoch 3/150\n",
            "\u001b[1m653/653\u001b[0m \u001b[32m━━━━━━━━━━━━━━━━━━━━\u001b[0m\u001b[37m\u001b[0m \u001b[1m0s\u001b[0m 102ms/step - loss: 0.9506\n",
            "Epoch 3: val_loss did not improve from 1.11602\n",
            "\u001b[1m653/653\u001b[0m \u001b[32m━━━━━━━━━━━━━━━━━━━━\u001b[0m\u001b[37m\u001b[0m \u001b[1m77s\u001b[0m 105ms/step - loss: 0.9506 - val_loss: 1.1241\n",
            "Epoch 4/150\n",
            "\u001b[1m653/653\u001b[0m \u001b[32m━━━━━━━━━━━━━━━━━━━━\u001b[0m\u001b[37m\u001b[0m \u001b[1m0s\u001b[0m 102ms/step - loss: 0.9488\n",
            "Epoch 4: val_loss did not improve from 1.11602\n",
            "\u001b[1m653/653\u001b[0m \u001b[32m━━━━━━━━━━━━━━━━━━━━\u001b[0m\u001b[37m\u001b[0m \u001b[1m82s\u001b[0m 105ms/step - loss: 0.9488 - val_loss: 1.1324\n",
            "Epoch 5/150\n",
            "\u001b[1m653/653\u001b[0m \u001b[32m━━━━━━━━━━━━━━━━━━━━\u001b[0m\u001b[37m\u001b[0m \u001b[1m0s\u001b[0m 103ms/step - loss: 0.9419\n",
            "Epoch 5: val_loss improved from 1.11602 to 1.09646, saving model to /content/drive/MyDrive/Interview/Dotech/model_src_main_2/model_1.09646.keras\n",
            "\u001b[1m653/653\u001b[0m \u001b[32m━━━━━━━━━━━━━━━━━━━━\u001b[0m\u001b[37m\u001b[0m \u001b[1m87s\u001b[0m 112ms/step - loss: 0.9419 - val_loss: 1.0965\n",
            "Epoch 6/150\n",
            "\u001b[1m653/653\u001b[0m \u001b[32m━━━━━━━━━━━━━━━━━━━━\u001b[0m\u001b[37m\u001b[0m \u001b[1m0s\u001b[0m 104ms/step - loss: 0.9470\n",
            "Epoch 6: val_loss did not improve from 1.09646\n",
            "\u001b[1m653/653\u001b[0m \u001b[32m━━━━━━━━━━━━━━━━━━━━\u001b[0m\u001b[37m\u001b[0m \u001b[1m70s\u001b[0m 108ms/step - loss: 0.9470 - val_loss: 1.1029\n",
            "Epoch 7/150\n",
            "\u001b[1m653/653\u001b[0m \u001b[32m━━━━━━━━━━━━━━━━━━━━\u001b[0m\u001b[37m\u001b[0m \u001b[1m0s\u001b[0m 102ms/step - loss: 0.9443\n",
            "Epoch 7: val_loss improved from 1.09646 to 1.07075, saving model to /content/drive/MyDrive/Interview/Dotech/model_src_main_2/model_1.07075.keras\n",
            "\u001b[1m653/653\u001b[0m \u001b[32m━━━━━━━━━━━━━━━━━━━━\u001b[0m\u001b[37m\u001b[0m \u001b[1m84s\u001b[0m 111ms/step - loss: 0.9443 - val_loss: 1.0708\n",
            "Epoch 8/150\n",
            "\u001b[1m653/653\u001b[0m \u001b[32m━━━━━━━━━━━━━━━━━━━━\u001b[0m\u001b[37m\u001b[0m \u001b[1m0s\u001b[0m 102ms/step - loss: 0.9427\n",
            "Epoch 8: val_loss did not improve from 1.07075\n",
            "\u001b[1m653/653\u001b[0m \u001b[32m━━━━━━━━━━━━━━━━━━━━\u001b[0m\u001b[37m\u001b[0m \u001b[1m79s\u001b[0m 106ms/step - loss: 0.9427 - val_loss: 1.1303\n",
            "Epoch 9/150\n",
            "\u001b[1m653/653\u001b[0m \u001b[32m━━━━━━━━━━━━━━━━━━━━\u001b[0m\u001b[37m\u001b[0m \u001b[1m0s\u001b[0m 102ms/step - loss: 0.9482\n",
            "Epoch 9: val_loss did not improve from 1.07075\n",
            "\u001b[1m653/653\u001b[0m \u001b[32m━━━━━━━━━━━━━━━━━━━━\u001b[0m\u001b[37m\u001b[0m \u001b[1m68s\u001b[0m 104ms/step - loss: 0.9481 - val_loss: 1.1089\n",
            "Epoch 10/150\n",
            "\u001b[1m653/653\u001b[0m \u001b[32m━━━━━━━━━━━━━━━━━━━━\u001b[0m\u001b[37m\u001b[0m \u001b[1m0s\u001b[0m 102ms/step - loss: 0.9426\n",
            "Epoch 10: val_loss did not improve from 1.07075\n",
            "\u001b[1m653/653\u001b[0m \u001b[32m━━━━━━━━━━━━━━━━━━━━\u001b[0m\u001b[37m\u001b[0m \u001b[1m83s\u001b[0m 106ms/step - loss: 0.9426 - val_loss: 1.1178\n",
            "Epoch 11/150\n",
            "\u001b[1m653/653\u001b[0m \u001b[32m━━━━━━━━━━━━━━━━━━━━\u001b[0m\u001b[37m\u001b[0m \u001b[1m0s\u001b[0m 102ms/step - loss: 0.9417\n",
            "Epoch 11: val_loss did not improve from 1.07075\n",
            "\u001b[1m653/653\u001b[0m \u001b[32m━━━━━━━━━━━━━━━━━━━━\u001b[0m\u001b[37m\u001b[0m \u001b[1m81s\u001b[0m 105ms/step - loss: 0.9417 - val_loss: 1.1325\n",
            "Epoch 12/150\n",
            "\u001b[1m653/653\u001b[0m \u001b[32m━━━━━━━━━━━━━━━━━━━━\u001b[0m\u001b[37m\u001b[0m \u001b[1m0s\u001b[0m 102ms/step - loss: 0.9430\n",
            "Epoch 12: val_loss did not improve from 1.07075\n",
            "\u001b[1m653/653\u001b[0m \u001b[32m━━━━━━━━━━━━━━━━━━━━\u001b[0m\u001b[37m\u001b[0m \u001b[1m83s\u001b[0m 106ms/step - loss: 0.9430 - val_loss: 1.1362\n",
            "Epoch 13/150\n",
            "\u001b[1m653/653\u001b[0m \u001b[32m━━━━━━━━━━━━━━━━━━━━\u001b[0m\u001b[37m\u001b[0m \u001b[1m0s\u001b[0m 102ms/step - loss: 0.9454\n",
            "Epoch 13: val_loss did not improve from 1.07075\n",
            "\u001b[1m653/653\u001b[0m \u001b[32m━━━━━━━━━━━━━━━━━━━━\u001b[0m\u001b[37m\u001b[0m \u001b[1m69s\u001b[0m 106ms/step - loss: 0.9454 - val_loss: 1.1294\n",
            "Epoch 14/150\n",
            "\u001b[1m653/653\u001b[0m \u001b[32m━━━━━━━━━━━━━━━━━━━━\u001b[0m\u001b[37m\u001b[0m \u001b[1m0s\u001b[0m 102ms/step - loss: 0.9388\n",
            "Epoch 14: val_loss did not improve from 1.07075\n",
            "\u001b[1m653/653\u001b[0m \u001b[32m━━━━━━━━━━━━━━━━━━━━\u001b[0m\u001b[37m\u001b[0m \u001b[1m82s\u001b[0m 106ms/step - loss: 0.9388 - val_loss: 1.1511\n",
            "Epoch 15/150\n",
            "\u001b[1m653/653\u001b[0m \u001b[32m━━━━━━━━━━━━━━━━━━━━\u001b[0m\u001b[37m\u001b[0m \u001b[1m0s\u001b[0m 102ms/step - loss: 0.9483\n",
            "Epoch 15: val_loss did not improve from 1.07075\n",
            "\u001b[1m653/653\u001b[0m \u001b[32m━━━━━━━━━━━━━━━━━━━━\u001b[0m\u001b[37m\u001b[0m \u001b[1m81s\u001b[0m 105ms/step - loss: 0.9483 - val_loss: 1.0799\n",
            "Epoch 16/150\n",
            "\u001b[1m653/653\u001b[0m \u001b[32m━━━━━━━━━━━━━━━━━━━━\u001b[0m\u001b[37m\u001b[0m \u001b[1m0s\u001b[0m 102ms/step - loss: 0.9441\n",
            "Epoch 16: val_loss did not improve from 1.07075\n",
            "\u001b[1m653/653\u001b[0m \u001b[32m━━━━━━━━━━━━━━━━━━━━\u001b[0m\u001b[37m\u001b[0m \u001b[1m82s\u001b[0m 105ms/step - loss: 0.9441 - val_loss: 1.0985\n",
            "Epoch 17/150\n",
            "\u001b[1m653/653\u001b[0m \u001b[32m━━━━━━━━━━━━━━━━━━━━\u001b[0m\u001b[37m\u001b[0m \u001b[1m0s\u001b[0m 102ms/step - loss: 0.9445\n",
            "Epoch 17: val_loss did not improve from 1.07075\n",
            "\u001b[1m653/653\u001b[0m \u001b[32m━━━━━━━━━━━━━━━━━━━━\u001b[0m\u001b[37m\u001b[0m \u001b[1m83s\u001b[0m 106ms/step - loss: 0.9445 - val_loss: 1.1903\n",
            "Epoch 18/150\n",
            "\u001b[1m653/653\u001b[0m \u001b[32m━━━━━━━━━━━━━━━━━━━━\u001b[0m\u001b[37m\u001b[0m \u001b[1m0s\u001b[0m 102ms/step - loss: 0.9931\n",
            "Epoch 18: val_loss did not improve from 1.07075\n",
            "\u001b[1m653/653\u001b[0m \u001b[32m━━━━━━━━━━━━━━━━━━━━\u001b[0m\u001b[37m\u001b[0m \u001b[1m82s\u001b[0m 106ms/step - loss: 0.9932 - val_loss: 1.0841\n",
            "Epoch 19/150\n",
            "\u001b[1m653/653\u001b[0m \u001b[32m━━━━━━━━━━━━━━━━━━━━\u001b[0m\u001b[37m\u001b[0m \u001b[1m0s\u001b[0m 102ms/step - loss: 1.0300\n",
            "Epoch 19: val_loss improved from 1.07075 to 1.05988, saving model to /content/drive/MyDrive/Interview/Dotech/model_src_main_2/model_1.05988.keras\n",
            "\u001b[1m653/653\u001b[0m \u001b[32m━━━━━━━━━━━━━━━━━━━━\u001b[0m\u001b[37m\u001b[0m \u001b[1m86s\u001b[0m 113ms/step - loss: 1.0300 - val_loss: 1.0599\n",
            "Epoch 20/150\n",
            "\u001b[1m653/653\u001b[0m \u001b[32m━━━━━━━━━━━━━━━━━━━━\u001b[0m\u001b[37m\u001b[0m \u001b[1m0s\u001b[0m 102ms/step - loss: 0.9981\n",
            "Epoch 20: val_loss did not improve from 1.05988\n",
            "\u001b[1m653/653\u001b[0m \u001b[32m━━━━━━━━━━━━━━━━━━━━\u001b[0m\u001b[37m\u001b[0m \u001b[1m77s\u001b[0m 105ms/step - loss: 0.9981 - val_loss: 1.2990\n",
            "Epoch 21/150\n",
            "\u001b[1m653/653\u001b[0m \u001b[32m━━━━━━━━━━━━━━━━━━━━\u001b[0m\u001b[37m\u001b[0m \u001b[1m0s\u001b[0m 102ms/step - loss: 0.9796\n",
            "Epoch 21: val_loss improved from 1.05988 to 1.05027, saving model to /content/drive/MyDrive/Interview/Dotech/model_src_main_2/model_1.05027.keras\n",
            "\u001b[1m653/653\u001b[0m \u001b[32m━━━━━━━━━━━━━━━━━━━━\u001b[0m\u001b[37m\u001b[0m \u001b[1m99s\u001b[0m 131ms/step - loss: 0.9796 - val_loss: 1.0503\n",
            "Epoch 22/150\n",
            "\u001b[1m653/653\u001b[0m \u001b[32m━━━━━━━━━━━━━━━━━━━━\u001b[0m\u001b[37m\u001b[0m \u001b[1m0s\u001b[0m 102ms/step - loss: 0.9578\n",
            "Epoch 22: val_loss did not improve from 1.05027\n",
            "\u001b[1m653/653\u001b[0m \u001b[32m━━━━━━━━━━━━━━━━━━━━\u001b[0m\u001b[37m\u001b[0m \u001b[1m69s\u001b[0m 105ms/step - loss: 0.9578 - val_loss: 1.0696\n",
            "Epoch 23/150\n",
            "\u001b[1m653/653\u001b[0m \u001b[32m━━━━━━━━━━━━━━━━━━━━\u001b[0m\u001b[37m\u001b[0m \u001b[1m0s\u001b[0m 101ms/step - loss: 0.9491\n",
            "Epoch 23: val_loss improved from 1.05027 to 1.04882, saving model to /content/drive/MyDrive/Interview/Dotech/model_src_main_2/model_1.04882.keras\n",
            "\u001b[1m653/653\u001b[0m \u001b[32m━━━━━━━━━━━━━━━━━━━━\u001b[0m\u001b[37m\u001b[0m \u001b[1m91s\u001b[0m 139ms/step - loss: 0.9491 - val_loss: 1.0488\n",
            "Epoch 24/150\n",
            "\u001b[1m653/653\u001b[0m \u001b[32m━━━━━━━━━━━━━━━━━━━━\u001b[0m\u001b[37m\u001b[0m \u001b[1m0s\u001b[0m 102ms/step - loss: 0.9434\n",
            "Epoch 24: val_loss did not improve from 1.04882\n",
            "\u001b[1m653/653\u001b[0m \u001b[32m━━━━━━━━━━━━━━━━━━━━\u001b[0m\u001b[37m\u001b[0m \u001b[1m120s\u001b[0m 106ms/step - loss: 0.9434 - val_loss: 1.5179\n",
            "Epoch 25/150\n",
            "\u001b[1m653/653\u001b[0m \u001b[32m━━━━━━━━━━━━━━━━━━━━\u001b[0m\u001b[37m\u001b[0m \u001b[1m0s\u001b[0m 101ms/step - loss: 0.9478\n",
            "Epoch 25: val_loss did not improve from 1.04882\n",
            "\u001b[1m653/653\u001b[0m \u001b[32m━━━━━━━━━━━━━━━━━━━━\u001b[0m\u001b[37m\u001b[0m \u001b[1m69s\u001b[0m 105ms/step - loss: 0.9478 - val_loss: 1.0818\n",
            "Epoch 26/150\n",
            "\u001b[1m653/653\u001b[0m \u001b[32m━━━━━━━━━━━━━━━━━━━━\u001b[0m\u001b[37m\u001b[0m \u001b[1m0s\u001b[0m 102ms/step - loss: 0.9535\n",
            "Epoch 26: val_loss did not improve from 1.04882\n",
            "\u001b[1m653/653\u001b[0m \u001b[32m━━━━━━━━━━━━━━━━━━━━\u001b[0m\u001b[37m\u001b[0m \u001b[1m82s\u001b[0m 106ms/step - loss: 0.9535 - val_loss: 1.0658\n",
            "Epoch 27/150\n",
            "\u001b[1m653/653\u001b[0m \u001b[32m━━━━━━━━━━━━━━━━━━━━\u001b[0m\u001b[37m\u001b[0m \u001b[1m0s\u001b[0m 102ms/step - loss: 0.9453\n",
            "Epoch 27: val_loss did not improve from 1.04882\n",
            "\u001b[1m653/653\u001b[0m \u001b[32m━━━━━━━━━━━━━━━━━━━━\u001b[0m\u001b[37m\u001b[0m \u001b[1m68s\u001b[0m 104ms/step - loss: 0.9453 - val_loss: 1.0793\n",
            "Epoch 28/150\n",
            "\u001b[1m653/653\u001b[0m \u001b[32m━━━━━━━━━━━━━━━━━━━━\u001b[0m\u001b[37m\u001b[0m \u001b[1m0s\u001b[0m 102ms/step - loss: 0.9450\n",
            "Epoch 28: val_loss did not improve from 1.04882\n",
            "\u001b[1m653/653\u001b[0m \u001b[32m━━━━━━━━━━━━━━━━━━━━\u001b[0m\u001b[37m\u001b[0m \u001b[1m82s\u001b[0m 105ms/step - loss: 0.9450 - val_loss: 1.0790\n",
            "Epoch 29/150\n",
            "\u001b[1m653/653\u001b[0m \u001b[32m━━━━━━━━━━━━━━━━━━━━\u001b[0m\u001b[37m\u001b[0m \u001b[1m0s\u001b[0m 102ms/step - loss: 0.9504\n",
            "Epoch 29: val_loss did not improve from 1.04882\n",
            "\u001b[1m653/653\u001b[0m \u001b[32m━━━━━━━━━━━━━━━━━━━━\u001b[0m\u001b[37m\u001b[0m \u001b[1m82s\u001b[0m 104ms/step - loss: 0.9504 - val_loss: 1.1225\n",
            "Epoch 30/150\n",
            "\u001b[1m653/653\u001b[0m \u001b[32m━━━━━━━━━━━━━━━━━━━━\u001b[0m\u001b[37m\u001b[0m \u001b[1m0s\u001b[0m 102ms/step - loss: 0.9426\n",
            "Epoch 30: val_loss did not improve from 1.04882\n",
            "\u001b[1m653/653\u001b[0m \u001b[32m━━━━━━━━━━━━━━━━━━━━\u001b[0m\u001b[37m\u001b[0m \u001b[1m83s\u001b[0m 106ms/step - loss: 0.9426 - val_loss: 1.0763\n",
            "Epoch 31/150\n",
            "\u001b[1m653/653\u001b[0m \u001b[32m━━━━━━━━━━━━━━━━━━━━\u001b[0m\u001b[37m\u001b[0m \u001b[1m0s\u001b[0m 102ms/step - loss: 0.9479\n",
            "Epoch 31: val_loss did not improve from 1.04882\n",
            "\u001b[1m653/653\u001b[0m \u001b[32m━━━━━━━━━━━━━━━━━━━━\u001b[0m\u001b[37m\u001b[0m \u001b[1m82s\u001b[0m 106ms/step - loss: 0.9479 - val_loss: 1.1025\n",
            "Epoch 32/150\n",
            "\u001b[1m653/653\u001b[0m \u001b[32m━━━━━━━━━━━━━━━━━━━━\u001b[0m\u001b[37m\u001b[0m \u001b[1m0s\u001b[0m 102ms/step - loss: 0.9475\n",
            "Epoch 32: val_loss did not improve from 1.04882\n",
            "\u001b[1m653/653\u001b[0m \u001b[32m━━━━━━━━━━━━━━━━━━━━\u001b[0m\u001b[37m\u001b[0m \u001b[1m81s\u001b[0m 105ms/step - loss: 0.9475 - val_loss: 1.1373\n",
            "Epoch 33/150\n",
            "\u001b[1m653/653\u001b[0m \u001b[32m━━━━━━━━━━━━━━━━━━━━\u001b[0m\u001b[37m\u001b[0m \u001b[1m0s\u001b[0m 102ms/step - loss: 0.9440\n",
            "Epoch 33: val_loss did not improve from 1.04882\n",
            "\u001b[1m653/653\u001b[0m \u001b[32m━━━━━━━━━━━━━━━━━━━━\u001b[0m\u001b[37m\u001b[0m \u001b[1m83s\u001b[0m 106ms/step - loss: 0.9440 - val_loss: 1.1167\n",
            "Epoch 34/150\n",
            "\u001b[1m653/653\u001b[0m \u001b[32m━━━━━━━━━━━━━━━━━━━━\u001b[0m\u001b[37m\u001b[0m \u001b[1m0s\u001b[0m 102ms/step - loss: 0.9421\n",
            "Epoch 34: val_loss did not improve from 1.04882\n",
            "\u001b[1m653/653\u001b[0m \u001b[32m━━━━━━━━━━━━━━━━━━━━\u001b[0m\u001b[37m\u001b[0m \u001b[1m68s\u001b[0m 104ms/step - loss: 0.9421 - val_loss: 1.0748\n",
            "Epoch 35/150\n",
            "\u001b[1m653/653\u001b[0m \u001b[32m━━━━━━━━━━━━━━━━━━━━\u001b[0m\u001b[37m\u001b[0m \u001b[1m0s\u001b[0m 102ms/step - loss: 0.9451\n",
            "Epoch 35: val_loss did not improve from 1.04882\n",
            "\u001b[1m653/653\u001b[0m \u001b[32m━━━━━━━━━━━━━━━━━━━━\u001b[0m\u001b[37m\u001b[0m \u001b[1m83s\u001b[0m 106ms/step - loss: 0.9450 - val_loss: 1.1445\n",
            "Epoch 36/150\n",
            "\u001b[1m653/653\u001b[0m \u001b[32m━━━━━━━━━━━━━━━━━━━━\u001b[0m\u001b[37m\u001b[0m \u001b[1m0s\u001b[0m 102ms/step - loss: 0.9478\n",
            "Epoch 36: val_loss did not improve from 1.04882\n",
            "\u001b[1m653/653\u001b[0m \u001b[32m━━━━━━━━━━━━━━━━━━━━\u001b[0m\u001b[37m\u001b[0m \u001b[1m81s\u001b[0m 105ms/step - loss: 0.9478 - val_loss: 1.1261\n",
            "Epoch 37/150\n",
            "\u001b[1m653/653\u001b[0m \u001b[32m━━━━━━━━━━━━━━━━━━━━\u001b[0m\u001b[37m\u001b[0m \u001b[1m0s\u001b[0m 102ms/step - loss: 0.9433\n",
            "Epoch 37: val_loss did not improve from 1.04882\n",
            "\u001b[1m653/653\u001b[0m \u001b[32m━━━━━━━━━━━━━━━━━━━━\u001b[0m\u001b[37m\u001b[0m \u001b[1m82s\u001b[0m 105ms/step - loss: 0.9433 - val_loss: 1.1949\n",
            "Epoch 38/150\n",
            "\u001b[1m653/653\u001b[0m \u001b[32m━━━━━━━━━━━━━━━━━━━━\u001b[0m\u001b[37m\u001b[0m \u001b[1m0s\u001b[0m 102ms/step - loss: 0.9426\n",
            "Epoch 38: val_loss did not improve from 1.04882\n",
            "\u001b[1m653/653\u001b[0m \u001b[32m━━━━━━━━━━━━━━━━━━━━\u001b[0m\u001b[37m\u001b[0m \u001b[1m68s\u001b[0m 104ms/step - loss: 0.9426 - val_loss: 1.1200\n",
            "Epoch 39/150\n",
            "\u001b[1m653/653\u001b[0m \u001b[32m━━━━━━━━━━━━━━━━━━━━\u001b[0m\u001b[37m\u001b[0m \u001b[1m0s\u001b[0m 102ms/step - loss: 0.9529\n",
            "Epoch 39: val_loss did not improve from 1.04882\n",
            "\u001b[1m653/653\u001b[0m \u001b[32m━━━━━━━━━━━━━━━━━━━━\u001b[0m\u001b[37m\u001b[0m \u001b[1m82s\u001b[0m 105ms/step - loss: 0.9529 - val_loss: 1.1257\n",
            "Epoch 40/150\n",
            "\u001b[1m653/653\u001b[0m \u001b[32m━━━━━━━━━━━━━━━━━━━━\u001b[0m\u001b[37m\u001b[0m \u001b[1m0s\u001b[0m 102ms/step - loss: 0.9429\n",
            "Epoch 40: val_loss did not improve from 1.04882\n",
            "\u001b[1m653/653\u001b[0m \u001b[32m━━━━━━━━━━━━━━━━━━━━\u001b[0m\u001b[37m\u001b[0m \u001b[1m69s\u001b[0m 106ms/step - loss: 0.9429 - val_loss: 1.1258\n",
            "Epoch 41/150\n",
            "\u001b[1m653/653\u001b[0m \u001b[32m━━━━━━━━━━━━━━━━━━━━\u001b[0m\u001b[37m\u001b[0m \u001b[1m0s\u001b[0m 102ms/step - loss: 0.9400\n",
            "Epoch 41: val_loss did not improve from 1.04882\n",
            "\u001b[1m653/653\u001b[0m \u001b[32m━━━━━━━━━━━━━━━━━━━━\u001b[0m\u001b[37m\u001b[0m \u001b[1m68s\u001b[0m 104ms/step - loss: 0.9400 - val_loss: 1.1440\n"
          ]
        }
      ]
    },
    {
      "cell_type": "code",
      "source": [
        "from tensorflow.keras.saving import register_keras_serializable\n",
        "import tensorflow.keras.backend as K\n",
        "\n",
        "@register_keras_serializable()\n",
        "def euclidean_distance(vectors):\n",
        "    (featsA, featsB) = vectors\n",
        "    sum_squared = K.sum(K.square(featsA - featsB), axis=1, keepdims=True)\n",
        "    return K.sqrt(K.maximum(sum_squared, K.epsilon()))"
      ],
      "metadata": {
        "id": "v4JEk-d1h-Ad"
      },
      "execution_count": null,
      "outputs": []
    },
    {
      "cell_type": "code",
      "source": [
        "model=load_model('/content/drive/MyDrive/interview/Dotech/model_src/model_0.935.keras')"
      ],
      "metadata": {
        "id": "ZAX5bix-6Z1a"
      },
      "execution_count": null,
      "outputs": []
    },
    {
      "cell_type": "code",
      "source": [
        "model.evaluate([test_images1,test_images2],test_labels)"
      ],
      "metadata": {
        "colab": {
          "base_uri": "https://localhost:8080/"
        },
        "id": "PuGhLfPpekie",
        "outputId": "3fa98e42-c618-45b5-c7ee-6ea01ac516b3"
      },
      "execution_count": null,
      "outputs": [
        {
          "output_type": "stream",
          "name": "stdout",
          "text": [
            "\u001b[1m180/180\u001b[0m \u001b[32m━━━━━━━━━━━━━━━━━━━━\u001b[0m\u001b[37m\u001b[0m \u001b[1m4s\u001b[0m 12ms/step - accuracy: 0.9531 - loss: 0.2173\n"
          ]
        },
        {
          "output_type": "execute_result",
          "data": {
            "text/plain": [
              "[0.2398827075958252, 0.9425787329673767]"
            ]
          },
          "metadata": {},
          "execution_count": 44
        }
      ]
    },
    {
      "cell_type": "code",
      "source": [
        "import numpy as np\n",
        "import cv2\n",
        "def preprocess_image_for_prediction(image_path, target_size=(48, 48)):\n",
        "    \"\"\"\n",
        "    Preprocess a single image for prediction: read, convert to grayscale, resize,\n",
        "    and add batch and channel dimensions.\n",
        "\n",
        "    Parameters:\n",
        "    - image_path (str): Path to the image file.\n",
        "    - target_size (tuple): Desired size of the output image (default is (48, 48)).\n",
        "\n",
        "    Returns:\n",
        "    - numpy.ndarray: Preprocessed image ready for model input.\n",
        "    \"\"\"\n",
        "    # Read the image\n",
        "    img = cv2.imread(image_path)\n",
        "    if img is None:\n",
        "        raise ValueError(f\"Image at {image_path} could not be read. Check the path.\")\n",
        "\n",
        "    # Convert to grayscale\n",
        "    img = cv2.cvtColor(img, cv2.COLOR_BGR2GRAY)\n",
        "\n",
        "    # Resize the image\n",
        "    img = cv2.resize(img, target_size)\n",
        "\n",
        "    # Add channel dimension for grayscale (48, 48) -> (48, 48, 1)\n",
        "    img = np.expand_dims(img, axis=-1)\n",
        "\n",
        "    # Add batch dimension (48, 48, 1) -> (1, 48, 48, 1)\n",
        "    img = np.expand_dims(img, axis=0)\n",
        "\n",
        "    # Convert to float32 and normalize (if needed)\n",
        "    img = img.astype('float32') / 255.0\n",
        "\n",
        "    return img\n"
      ],
      "metadata": {
        "id": "xdyaitM0fscd"
      },
      "execution_count": null,
      "outputs": []
    },
    {
      "cell_type": "code",
      "source": [
        "# Paths to two images\n",
        "image1_path = \"/content/drive/MyDrive/interview/Dotech/sign_data/test/049/01_049.png\"\n",
        "image2_path = \"/content/drive/MyDrive/interview/Dotech/sign_data/test/049_forg/04_0210049.PNG\"\n",
        "\n",
        "# Preprocess the images\n",
        "img1 = preprocess_image_for_prediction(image1_path)\n",
        "img2 = preprocess_image_for_prediction(image2_path)\n",
        "\n",
        "# Predict similarity (assuming your Siamese model takes two inputs)\n",
        "similarity_score = model.predict([img1, img2])\n",
        "\n",
        "# Output the similarity score\n",
        "print(\"Similarity Score:\", similarity_score)\n",
        "\n",
        "# Determine if the signatures match based on a threshold\n",
        "threshold = 0.5  # Define your threshold\n",
        "if similarity_score > threshold:\n",
        "    print(\"Signatures Match\")\n",
        "else:\n",
        "    print(\"Signatures Do Not Match\")\n"
      ],
      "metadata": {
        "colab": {
          "base_uri": "https://localhost:8080/"
        },
        "id": "iFS3aHM9ekmV",
        "outputId": "fda9c2a1-7693-4373-d90c-efa236589201"
      },
      "execution_count": null,
      "outputs": [
        {
          "output_type": "stream",
          "name": "stdout",
          "text": [
            "\u001b[1m1/1\u001b[0m \u001b[32m━━━━━━━━━━━━━━━━━━━━\u001b[0m\u001b[37m\u001b[0m \u001b[1m0s\u001b[0m 22ms/step\n",
            "Similarity Score: [[0.99999285]]\n",
            "Signatures Match\n"
          ]
        }
      ]
    },
    {
      "cell_type": "code",
      "source": [
        "!pip show tensorflow"
      ],
      "metadata": {
        "colab": {
          "base_uri": "https://localhost:8080/"
        },
        "id": "1yamQoLui42v",
        "outputId": "34a898c2-2734-46bb-e8e6-15a5b235e273"
      },
      "execution_count": null,
      "outputs": [
        {
          "output_type": "stream",
          "name": "stdout",
          "text": [
            "Name: tensorflow\n",
            "Version: 2.17.1\n",
            "Summary: TensorFlow is an open source machine learning framework for everyone.\n",
            "Home-page: https://www.tensorflow.org/\n",
            "Author: Google Inc.\n",
            "Author-email: packages@tensorflow.org\n",
            "License: Apache 2.0\n",
            "Location: /usr/local/lib/python3.10/dist-packages\n",
            "Requires: absl-py, astunparse, flatbuffers, gast, google-pasta, grpcio, h5py, keras, libclang, ml-dtypes, numpy, opt-einsum, packaging, protobuf, requests, setuptools, six, tensorboard, tensorflow-io-gcs-filesystem, termcolor, typing-extensions, wrapt\n",
            "Required-by: dopamine_rl, tf_keras\n"
          ]
        }
      ]
    }
  ]
}